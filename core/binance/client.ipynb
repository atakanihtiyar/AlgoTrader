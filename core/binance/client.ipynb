{
 "metadata": {
  "language_info": {
   "codemirror_mode": {
    "name": "ipython",
    "version": 3
   },
   "file_extension": ".py",
   "mimetype": "text/x-python",
   "name": "python",
   "nbconvert_exporter": "python",
   "pygments_lexer": "ipython3",
   "version": "3.9.4-final"
  },
  "orig_nbformat": 2,
  "kernelspec": {
   "name": "python394jvsc74a57bd064bb344f577f5d9438206ad80c9246969c5cba529a6a6aaf44292dfad19836f0",
   "display_name": "Python 3.9.4 64-bit"
  }
 },
 "nbformat": 4,
 "nbformat_minor": 2,
 "cells": [
  {
   "cell_type": "code",
   "execution_count": 1,
   "metadata": {},
   "outputs": [],
   "source": [
    "import pandas as pd\n",
    "from binance.client import Client"
   ]
  },
  {
   "cell_type": "code",
   "execution_count": 2,
   "metadata": {},
   "outputs": [],
   "source": [
    "def save_historical_candles(symbol, interval, start_time, end_time) :\n",
    "    file_name = symbol + \"_\" + interval + \".csv\"\n",
    "    \n",
    "    columns_name = [\"Open time\", \"Open\", \"High\", \"Low\", \"Close\", \"Volume\", \"Close time\", \n",
    "            \"Quote asset volume\", \"Number of trades\", \"Taker buy base asset volume\", \n",
    "            \"Taker buy quote asset volume\", \"Can be ignored\"]\n",
    "    \n",
    "    data_json = client.get_historical_klines(symbol, interval, start_time, end_time)\n",
    "    \n",
    "    data = pd.DataFrame(data_json, columns = columns_name)\n",
    "    data['Close time'] = pd.to_datetime(data['Close time'], unit='ms')\n",
    "    data['Open time'] = pd.to_datetime(data['Open time'], unit='ms')\n",
    "    data.to_csv(file_name, encoding='utf-8')\n",
    "    \n",
    "    return data"
   ]
  },
  {
   "source": [
    "save_historical_candles(\"BTCBUSD\", \"2h\", \"January 01, 2017\", \"January 01, 2021\")"
   ],
   "cell_type": "code",
   "metadata": {},
   "execution_count": null,
   "outputs": []
  }
 ]
}